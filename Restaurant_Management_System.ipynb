{
  "nbformat": 4,
  "nbformat_minor": 0,
  "metadata": {
    "colab": {
      "provenance": [],
      "authorship_tag": "ABX9TyOF41V61VeT5qVUtzp23xkf",
      "include_colab_link": true
    },
    "kernelspec": {
      "name": "python3",
      "display_name": "Python 3"
    },
    "language_info": {
      "name": "python"
    }
  },
  "cells": [
    {
      "cell_type": "markdown",
      "metadata": {
        "id": "view-in-github",
        "colab_type": "text"
      },
      "source": [
        "<a href=\"https://colab.research.google.com/github/Jackydejnr1/Teaching-Files/blob/main/Restaurant_Management_System.ipynb\" target=\"_parent\"><img src=\"https://colab.research.google.com/assets/colab-badge.svg\" alt=\"Open In Colab\"/></a>"
      ]
    },
    {
      "cell_type": "code",
      "execution_count": 2,
      "metadata": {
        "colab": {
          "base_uri": "https://localhost:8080/",
          "height": 332
        },
        "id": "PMhI88Ky5KFg",
        "outputId": "41b689e8-0a28-4359-fd07-09f46bc00362"
      },
      "outputs": [
        {
          "output_type": "error",
          "ename": "TclError",
          "evalue": "no display name and no $DISPLAY environment variable",
          "traceback": [
            "\u001b[0;31m---------------------------------------------------------------------------\u001b[0m",
            "\u001b[0;31mTclError\u001b[0m                                  Traceback (most recent call last)",
            "\u001b[0;32m/tmp/ipython-input-216622212.py\u001b[0m in \u001b[0;36m<cell line: 0>\u001b[0;34m()\u001b[0m\n\u001b[1;32m     89\u001b[0m \u001b[0;34m\u001b[0m\u001b[0m\n\u001b[1;32m     90\u001b[0m \u001b[0;32mif\u001b[0m \u001b[0m__name__\u001b[0m \u001b[0;34m==\u001b[0m \u001b[0;34m\"__main__\"\u001b[0m\u001b[0;34m:\u001b[0m\u001b[0;34m\u001b[0m\u001b[0;34m\u001b[0m\u001b[0m\n\u001b[0;32m---> 91\u001b[0;31m     \u001b[0mroot\u001b[0m \u001b[0;34m=\u001b[0m \u001b[0mtk\u001b[0m\u001b[0;34m.\u001b[0m\u001b[0mTk\u001b[0m\u001b[0;34m(\u001b[0m\u001b[0;34m)\u001b[0m\u001b[0;34m\u001b[0m\u001b[0;34m\u001b[0m\u001b[0m\n\u001b[0m\u001b[1;32m     92\u001b[0m     \u001b[0mapp\u001b[0m \u001b[0;34m=\u001b[0m \u001b[0mRestaurantOrderManagement\u001b[0m\u001b[0;34m(\u001b[0m\u001b[0mroot\u001b[0m\u001b[0;34m)\u001b[0m\u001b[0;34m\u001b[0m\u001b[0;34m\u001b[0m\u001b[0m\n\u001b[1;32m     93\u001b[0m     \u001b[0mroot\u001b[0m\u001b[0;34m.\u001b[0m\u001b[0mgeometry\u001b[0m\u001b[0;34m(\u001b[0m\u001b[0;34m\"800x600\"\u001b[0m\u001b[0;34m)\u001b[0m\u001b[0;34m\u001b[0m\u001b[0;34m\u001b[0m\u001b[0m\n",
            "\u001b[0;32m/usr/lib/python3.11/tkinter/__init__.py\u001b[0m in \u001b[0;36m__init__\u001b[0;34m(self, screenName, baseName, className, useTk, sync, use)\u001b[0m\n\u001b[1;32m   2324\u001b[0m                 \u001b[0mbaseName\u001b[0m \u001b[0;34m=\u001b[0m \u001b[0mbaseName\u001b[0m \u001b[0;34m+\u001b[0m \u001b[0mext\u001b[0m\u001b[0;34m\u001b[0m\u001b[0;34m\u001b[0m\u001b[0m\n\u001b[1;32m   2325\u001b[0m         \u001b[0minteractive\u001b[0m \u001b[0;34m=\u001b[0m \u001b[0;32mFalse\u001b[0m\u001b[0;34m\u001b[0m\u001b[0;34m\u001b[0m\u001b[0m\n\u001b[0;32m-> 2326\u001b[0;31m         \u001b[0mself\u001b[0m\u001b[0;34m.\u001b[0m\u001b[0mtk\u001b[0m \u001b[0;34m=\u001b[0m \u001b[0m_tkinter\u001b[0m\u001b[0;34m.\u001b[0m\u001b[0mcreate\u001b[0m\u001b[0;34m(\u001b[0m\u001b[0mscreenName\u001b[0m\u001b[0;34m,\u001b[0m \u001b[0mbaseName\u001b[0m\u001b[0;34m,\u001b[0m \u001b[0mclassName\u001b[0m\u001b[0;34m,\u001b[0m \u001b[0minteractive\u001b[0m\u001b[0;34m,\u001b[0m \u001b[0mwantobjects\u001b[0m\u001b[0;34m,\u001b[0m \u001b[0museTk\u001b[0m\u001b[0;34m,\u001b[0m \u001b[0msync\u001b[0m\u001b[0;34m,\u001b[0m \u001b[0muse\u001b[0m\u001b[0;34m)\u001b[0m\u001b[0;34m\u001b[0m\u001b[0;34m\u001b[0m\u001b[0m\n\u001b[0m\u001b[1;32m   2327\u001b[0m         \u001b[0;32mif\u001b[0m \u001b[0museTk\u001b[0m\u001b[0;34m:\u001b[0m\u001b[0;34m\u001b[0m\u001b[0;34m\u001b[0m\u001b[0m\n\u001b[1;32m   2328\u001b[0m             \u001b[0mself\u001b[0m\u001b[0;34m.\u001b[0m\u001b[0m_loadtk\u001b[0m\u001b[0;34m(\u001b[0m\u001b[0;34m)\u001b[0m\u001b[0;34m\u001b[0m\u001b[0;34m\u001b[0m\u001b[0m\n",
            "\u001b[0;31mTclError\u001b[0m: no display name and no $DISPLAY environment variable"
          ]
        }
      ],
      "source": [
        "import tkinter as tk\n",
        "from tkinter import ttk\n",
        "from PIL import Image, ImageTk\n",
        "\n",
        "class RestaurantOrderManagement:\n",
        "    def __init__(self, root):\n",
        "        self.root = root\n",
        "        self.root.title(\"Restaurant Order Management System\")\n",
        "\n",
        "        # Menu items and prices\n",
        "        self.menu_items = {\n",
        "            \"FRIES MEAL\": 2,\n",
        "            \"LUNCH MEAL\": 2,\n",
        "            \"BURGER MEAL\": 5,\n",
        "            \"PIZZA MEAL\": 5,\n",
        "            \"CHEESE BURGER\": 3,\n",
        "            \"CHICKEN BURGER\": 4,\n",
        "            \"DRINKS\": 1\n",
        "        }\n",
        "\n",
        "        self.exchange_rate = 82  # Example exchange rate\n",
        "        self.images = {}         # Dictionary to store all PhotoImage references\n",
        "\n",
        "        # Setup UI\n",
        "        self.setup_background(root)\n",
        "\n",
        "        # Frame for widgets\n",
        "        frame = ttk.Frame(root)\n",
        "        frame.place(relx=0.5, rely=0.5, anchor=\"center\")\n",
        "\n",
        "        # Title label\n",
        "        label = ttk.Label(frame, text=\"Restaurant Order Management System\", font=(\"Arial\", 18))\n",
        "        label.pack(pady=10)\n",
        "\n",
        "        # Input fields\n",
        "        self.entries = {}\n",
        "        for item, price in self.menu_items.items():\n",
        "            row = ttk.Frame(frame)\n",
        "            row.pack(fill=\"x\", pady=5)\n",
        "            ttk.Label(row, text=f\"{item} (${price})\", width=20).pack(side=\"left\")\n",
        "            entry = ttk.Entry(row)\n",
        "            entry.pack(side=\"right\", expand=True, fill=\"x\")\n",
        "            self.entries[item] = entry\n",
        "\n",
        "        # Buttons\n",
        "        ttk.Button(frame, text=\"Calculate\", command=self.calculate_total).pack(pady=5)\n",
        "        ttk.Button(frame, text=\"Reset\", command=self.reset).pack(pady=5)\n",
        "\n",
        "        # Output labels\n",
        "        self.total_label = ttk.Label(frame, text=\"Total: $0\")\n",
        "        self.total_label.pack()\n",
        "        self.total_naira_label = ttk.Label(frame, text=\"Total in Naira: ₦0\")\n",
        "        self.total_naira_label.pack()\n",
        "\n",
        "    def setup_background(self, root):\n",
        "        \"\"\"Load and keep reference of background image\"\"\"\n",
        "        try:\n",
        "            img = Image.open(\"background.jpg\")  # Replace with full path if needed\n",
        "            resized = img.resize((800, 600))\n",
        "            self.images[\"background\"] = ImageTk.PhotoImage(resized)  # store in dict\n",
        "\n",
        "            self.canvas = tk.Canvas(root, width=800, height=600)\n",
        "            self.canvas.pack(fill=\"both\", expand=True)\n",
        "            self.canvas.create_image(0, 0, anchor=tk.NW, image=self.images[\"background\"])\n",
        "        except Exception as e:\n",
        "            print(\"Background image not found or failed to load:\", e)\n",
        "\n",
        "    def calculate_total(self):\n",
        "        \"\"\"Calculate total order\"\"\"\n",
        "        total = 0\n",
        "        for item, entry in self.entries.items():\n",
        "            try:\n",
        "                quantity = int(entry.get())\n",
        "                total += self.menu_items[item] * quantity\n",
        "            except ValueError:\n",
        "                pass\n",
        "\n",
        "        total_naira = total * self.exchange_rate\n",
        "        self.total_label.config(text=f\"Total: ${total}\")\n",
        "        self.total_naira_label.config(text=f\"Total in Naira: ₦{total_naira}\")\n",
        "\n",
        "    def reset(self):\n",
        "        \"\"\"Clear all entries\"\"\"\n",
        "        for entry in self.entries.values():\n",
        "            entry.delete(0, tk.END)\n",
        "        self.total_label.config(text=\"Total: $0\")\n",
        "        self.total_naira_label.config(text=\"Total in Naira: ₦0\")\n",
        "\n",
        "\n",
        "if __name__ == \"__main__\":\n",
        "    root = tk.Tk()\n",
        "    app = RestaurantOrderManagement(root)\n",
        "    root.geometry(\"800x600\")\n",
        "    root.mainloop()\n"
      ]
    }
  ]
}