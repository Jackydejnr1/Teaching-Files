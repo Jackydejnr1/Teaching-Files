{
  "nbformat": 4,
  "nbformat_minor": 0,
  "metadata": {
    "colab": {
      "provenance": [],
      "include_colab_link": true
    },
    "kernelspec": {
      "name": "python3",
      "display_name": "Python 3"
    },
    "language_info": {
      "name": "python"
    }
  },
  "cells": [
    {
      "cell_type": "markdown",
      "metadata": {
        "id": "view-in-github",
        "colab_type": "text"
      },
      "source": [
        "<a href=\"https://colab.research.google.com/github/Jackydejnr1/Teaching-Files/blob/main/Gradient_Descent_function.ipynb\" target=\"_parent\"><img src=\"https://colab.research.google.com/assets/colab-badge.svg\" alt=\"Open In Colab\"/></a>"
      ]
    },
    {
      "cell_type": "code",
      "execution_count": null,
      "metadata": {
        "id": "-aekG3vlt6FP"
      },
      "outputs": [],
      "source": [
        "from numpy import asarray\n",
        "from numpy import arange\n",
        "from numpy import random\n",
        "from matplotlib import pyplot"
      ]
    },
    {
      "cell_type": "code",
      "source": [
        "# objective function\n",
        "def objective(x):\n",
        "    return x**2.0"
      ],
      "metadata": {
        "id": "GERBZLEiulrI"
      },
      "execution_count": null,
      "outputs": []
    },
    {
      "cell_type": "code",
      "source": [
        "# derivative of objective function\n",
        "def derivative(x):\n",
        "    return x * 2.0"
      ],
      "metadata": {
        "id": "kK98OOiMun9J"
      },
      "execution_count": null,
      "outputs": []
    },
    {
      "cell_type": "code",
      "source": [
        "# gradient descent algorithm\n",
        "def gradient_descent(objective, derivative, bounds, n_iter, step_size):\n",
        "    # track all solutions\n",
        "    solutions, scores = list(), list()\n",
        "    # generate an initial point\n",
        "    solution = bounds[:, 0] + random.rand(len(bounds)) * (bounds[:, 1] - bounds[:, 0])\n",
        "    # run the gradient descent\n",
        "    for i in range(n_iter):\n",
        "        # calculate gradient\n",
        "        gradient = derivative(solution)\n",
        "        # take a step\n",
        "        solution = solution - step_size * gradient\n",
        "        # evaluate candidate point\n",
        "        solution_eval = objective(solution)\n",
        "        # store solution\n",
        "        solutions.append(solution)\n",
        "        scores.append(solution_eval)\n",
        "        # report progress\n",
        "        print('> %d f(%s) = %.5f' % (i, solution, solution_eval))\n",
        "    return [solutions, scores]"
      ],
      "metadata": {
        "id": "rZYnI5Rwuq1E"
      },
      "execution_count": null,
      "outputs": []
    },
    {
      "cell_type": "code",
      "source": [
        "# define range for input\n",
        "bounds = asarray([[-1.0, 1.0]])\n",
        "# define the total iterations\n",
        "n_iter = 30"
      ],
      "metadata": {
        "id": "LnhrcLACw1kM"
      },
      "execution_count": null,
      "outputs": []
    },
    {
      "cell_type": "code",
      "source": [
        "# define the step size\n",
        "step_size = 0.1"
      ],
      "metadata": {
        "id": "KPKmpMMpxj1B"
      },
      "execution_count": null,
      "outputs": []
    },
    {
      "cell_type": "code",
      "source": [
        "# perform the gradient descent search\n",
        "solutions, scores = gradient_descent(objective, derivative, bounds, n_iter, step_size)"
      ],
      "metadata": {
        "colab": {
          "base_uri": "https://localhost:8080/"
        },
        "id": "Z8eybLBTyaSq",
        "outputId": "6c511f67-6e73-4ffb-f1e5-47350d0b61c0"
      },
      "execution_count": null,
      "outputs": [
        {
          "output_type": "stream",
          "name": "stdout",
          "text": [
            "> 0 f([0.30352006]) = 0.09212\n",
            "> 1 f([0.24281605]) = 0.05896\n",
            "> 2 f([0.19425284]) = 0.03773\n",
            "> 3 f([0.15540227]) = 0.02415\n",
            "> 4 f([0.12432182]) = 0.01546\n",
            "> 5 f([0.09945745]) = 0.00989\n",
            "> 6 f([0.07956596]) = 0.00633\n",
            "> 7 f([0.06365277]) = 0.00405\n",
            "> 8 f([0.05092222]) = 0.00259\n",
            "> 9 f([0.04073777]) = 0.00166\n",
            "> 10 f([0.03259022]) = 0.00106\n",
            "> 11 f([0.02607217]) = 0.00068\n",
            "> 12 f([0.02085774]) = 0.00044\n",
            "> 13 f([0.01668619]) = 0.00028\n",
            "> 14 f([0.01334895]) = 0.00018\n",
            "> 15 f([0.01067916]) = 0.00011\n",
            "> 16 f([0.00854333]) = 0.00007\n",
            "> 17 f([0.00683466]) = 0.00005\n",
            "> 18 f([0.00546773]) = 0.00003\n",
            "> 19 f([0.00437419]) = 0.00002\n",
            "> 20 f([0.00349935]) = 0.00001\n",
            "> 21 f([0.00279948]) = 0.00001\n",
            "> 22 f([0.00223958]) = 0.00001\n",
            "> 23 f([0.00179167]) = 0.00000\n",
            "> 24 f([0.00143333]) = 0.00000\n",
            "> 25 f([0.00114667]) = 0.00000\n",
            "> 26 f([0.00091733]) = 0.00000\n",
            "> 27 f([0.00073387]) = 0.00000\n",
            "> 28 f([0.00058709]) = 0.00000\n",
            "> 29 f([0.00046967]) = 0.00000\n"
          ]
        },
        {
          "output_type": "stream",
          "name": "stderr",
          "text": [
            "<ipython-input-6-dd2133e62ee0>:19: DeprecationWarning: Conversion of an array with ndim > 0 to a scalar is deprecated, and will error in future. Ensure you extract a single element from your array before performing this operation. (Deprecated NumPy 1.25.)\n",
            "  print('> %d f(%s) = %.5f' % (i, solution, solution_eval))\n"
          ]
        }
      ]
    },
    {
      "cell_type": "code",
      "source": [
        "# sample input range uniformly at 0.1 increments\n",
        "inputs = arange(bounds[0, 0], bounds[0, 1] + 0.1, 0.1)"
      ],
      "metadata": {
        "id": "JEd8iM9_yg9A"
      },
      "execution_count": null,
      "outputs": []
    },
    {
      "cell_type": "code",
      "source": [
        "# compute targets\n",
        "results = objective(inputs)"
      ],
      "metadata": {
        "id": "RQvsaD8Aykmn"
      },
      "execution_count": null,
      "outputs": []
    },
    {
      "cell_type": "code",
      "source": [
        "# create a line plot of input vs result\n",
        "pyplot.plot(inputs, results)\n",
        "# plot the solutions found\n",
        "pyplot.plot(solutions, scores, '.', color='red')\n",
        "# show the plot\n",
        "pyplot.show()"
      ],
      "metadata": {
        "colab": {
          "base_uri": "https://localhost:8080/",
          "height": 430
        },
        "id": "iaYeWV1jym73",
        "outputId": "f753e624-5567-4f9a-8788-6b3b05350d1e"
      },
      "execution_count": null,
      "outputs": [
        {
          "output_type": "display_data",
          "data": {
            "text/plain": [
              "<Figure size 640x480 with 1 Axes>"
            ],
            "image/png": "[encoded data removed]"
          },
          "metadata": {}
        }
      ]
    }
  ]
}